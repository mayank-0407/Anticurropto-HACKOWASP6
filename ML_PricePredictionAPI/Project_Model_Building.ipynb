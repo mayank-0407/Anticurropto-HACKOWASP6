{
  "cells": [
    {
      "cell_type": "markdown",
      "id": "15b1b900",
      "metadata": {
        "id": "15b1b900"
      },
      "source": [
        "## Real Estate (99acres.com) Model Building"
      ]
    },
    {
      "cell_type": "markdown",
      "id": "a77b0036",
      "metadata": {
        "id": "a77b0036"
      },
      "source": [
        "## 1. Import sklearn Libraries"
      ]
    },
    {
      "cell_type": "code",
      "execution_count": 1,
      "id": "e385cfdc",
      "metadata": {
        "id": "e385cfdc"
      },
      "outputs": [],
      "source": [
        "import numpy as np\n",
        "import pandas as pd\n",
        "import seaborn as sns\n",
        "import matplotlib.pyplot as plt\n",
        "import matplotlib.pylab as pylab\n",
        "from sklearn.preprocessing import LabelEncoder\n",
        "from sklearn.model_selection import train_test_split\n",
        "\n",
        "import warnings\n",
        "warnings.filterwarnings('ignore')"
      ]
    },
    {
      "cell_type": "markdown",
      "id": "0c922116",
      "metadata": {
        "id": "0c922116"
      },
      "source": [
        "## 2. Import Dataset"
      ]
    },
    {
      "cell_type": "code",
      "execution_count": null,
      "id": "5bd6e3d3",
      "metadata": {
        "id": "5bd6e3d3"
      },
      "outputs": [],
      "source": [
        "mum_prop = pd.read_csv('Final_Project.csv')\n",
        "mum_prop"
      ]
    },
    {
      "cell_type": "markdown",
      "id": "2000ec59",
      "metadata": {
        "id": "2000ec59"
      },
      "source": [
        "## 3. Data Understanding"
      ]
    },
    {
      "cell_type": "code",
      "execution_count": 3,
      "id": "e3ff6ae7",
      "metadata": {
        "colab": {
          "base_uri": "https://localhost:8080/"
        },
        "id": "e3ff6ae7",
        "outputId": "1172f137-ca19-42d6-8eca-e2ab20346c2d"
      },
      "outputs": [
        {
          "output_type": "execute_result",
          "data": {
            "text/plain": [
              "(2531, 12)"
            ]
          },
          "metadata": {},
          "execution_count": 3
        }
      ],
      "source": [
        "mum_prop.shape"
      ]
    },
    {
      "cell_type": "code",
      "execution_count": 4,
      "id": "72f33c7d",
      "metadata": {
        "colab": {
          "base_uri": "https://localhost:8080/"
        },
        "id": "72f33c7d",
        "outputId": "47ab664d-497e-4007-b1b1-8eb348882765"
      },
      "outputs": [
        {
          "output_type": "stream",
          "name": "stdout",
          "text": [
            "<class 'pandas.core.frame.DataFrame'>\n",
            "Index: 2531 entries, 0 to 2530\n",
            "Data columns (total 12 columns):\n",
            " #   Column         Non-Null Count  Dtype  \n",
            "---  ------         --------------  -----  \n",
            " 0   Property_Name  2531 non-null   object \n",
            " 1   Location       2531 non-null   object \n",
            " 2   Region         2531 non-null   object \n",
            " 3   Property_Age   2531 non-null   object \n",
            " 4   Availability   2531 non-null   object \n",
            " 5   Area_Tpye      2531 non-null   object \n",
            " 6   Area_SqFt      2531 non-null   float64\n",
            " 7   Rate_SqFt      2531 non-null   int64  \n",
            " 8   Floor_No       2531 non-null   int64  \n",
            " 9   Bedroom        2531 non-null   int64  \n",
            " 10  Bathroom       2531 non-null   int64  \n",
            " 11  Price_Lakh     2531 non-null   float64\n",
            "dtypes: float64(2), int64(4), object(6)\n",
            "memory usage: 257.1+ KB\n"
          ]
        }
      ],
      "source": [
        "mum_prop.info()"
      ]
    },
    {
      "cell_type": "code",
      "execution_count": 5,
      "id": "9fbe273e",
      "metadata": {
        "colab": {
          "base_uri": "https://localhost:8080/"
        },
        "id": "9fbe273e",
        "outputId": "d2023844-7a50-4856-8af0-a2207292f98f"
      },
      "outputs": [
        {
          "output_type": "execute_result",
          "data": {
            "text/plain": [
              "Property_Name    0\n",
              "Location         0\n",
              "Region           0\n",
              "Property_Age     0\n",
              "Availability     0\n",
              "Area_Tpye        0\n",
              "Area_SqFt        0\n",
              "Rate_SqFt        0\n",
              "Floor_No         0\n",
              "Bedroom          0\n",
              "Bathroom         0\n",
              "Price_Lakh       0\n",
              "dtype: int64"
            ]
          },
          "metadata": {},
          "execution_count": 5
        }
      ],
      "source": [
        "mum_prop.isna().sum()"
      ]
    },
    {
      "cell_type": "code",
      "execution_count": 7,
      "id": "7c8116da",
      "metadata": {
        "colab": {
          "base_uri": "https://localhost:8080/"
        },
        "id": "7c8116da",
        "outputId": "65c3d8b5-8b9b-4460-b65a-8c28e48ef7ed"
      },
      "outputs": [
        {
          "output_type": "stream",
          "name": "stdout",
          "text": [
            "       Area_SqFt  Rate_SqFt  Floor_No  Bedroom  Bathroom  Price_Lakh\n",
            "count     2531.0     2531.0    2531.0   2531.0    2531.0      2531.0\n",
            "mean       949.0    16554.0       9.0      2.0       2.0       161.0\n",
            "std        487.0    10204.0       8.0      1.0       1.0       162.0\n",
            "min        185.0     1808.0      -1.0      1.0       1.0        13.0\n",
            "25%        634.0     8751.0       3.0      1.0       2.0        66.0\n",
            "50%        850.0    13636.0       6.0      2.0       2.0       110.0\n",
            "75%       1150.0    22314.0      12.0      2.0       2.0       197.0\n",
            "max       5000.0    55611.0      55.0      6.0       7.0      1900.0\n"
          ]
        }
      ],
      "source": [
        "print(mum_prop.describe().round())"
      ]
    },
    {
      "cell_type": "markdown",
      "id": "c50c4747",
      "metadata": {
        "id": "c50c4747"
      },
      "source": [
        "## 4. Feature Engineering"
      ]
    },
    {
      "cell_type": "markdown",
      "id": "fcaec645",
      "metadata": {
        "id": "fcaec645"
      },
      "source": [
        "### 4.1 Drop Unwanted Columns"
      ]
    },
    {
      "cell_type": "code",
      "execution_count": 8,
      "id": "dd2e859c",
      "metadata": {
        "scrolled": false,
        "colab": {
          "base_uri": "https://localhost:8080/"
        },
        "id": "dd2e859c",
        "outputId": "e978aab3-2279-4318-c40a-2ef9f2afc282"
      },
      "outputs": [
        {
          "output_type": "stream",
          "name": "stdout",
          "text": [
            "                  Property_Name  \\\n",
            "0             Omkar Alta Monte    \n",
            "1  T Bhimjyani Neelkanth Woods    \n",
            "2       Legend 1 Pramila Nagar    \n",
            "3              Unnamed Property   \n",
            "4              Unnamed Property   \n",
            "\n",
            "                                            Location            Region  \\\n",
            "0                      W E Highway Malad East Mumbai      Malad Mumbai   \n",
            "1                               Manpada Thane Mumbai     Manpada Thane   \n",
            "2                                Dahisar West Mumbai    Dahisar Mumbai   \n",
            "3  Vidyavihar West Vidyavihar West Central Mumbai...    Central Mumbai   \n",
            "4  176 Cst Road Kalina Mumbai 400098 Santacruz Ea...  Santacruz Mumbai   \n",
            "\n",
            "   Property_Age   Availability            Area_Tpye  Area_SqFt  Rate_SqFt  \\\n",
            "0   0 to 1 Year  Ready To Move  Super Built Up Area     2900.0      17241   \n",
            "1   1 to 5 Year  Ready To Move  Super Built Up Area     1900.0      12631   \n",
            "2      10+ Year  Ready To Move  Super Built Up Area      595.0      15966   \n",
            "3  5 to 10 Year  Ready To Move        Built Up Area     1450.0      25862   \n",
            "4  5 to 10 Year  Ready To Move          Carpet Area      876.0      39954   \n",
            "\n",
            "   Floor_No  Bedroom  Bathroom  Price_Lakh  \n",
            "0        14        3         4       500.0  \n",
            "1         8        3         3       240.0  \n",
            "2         3        1         2        95.0  \n",
            "3         1        3         3       375.0  \n",
            "4         5        2         2       350.0  \n"
          ]
        }
      ],
      "source": [
        "print(mum_prop.head())"
      ]
    },
    {
      "cell_type": "code",
      "execution_count": 9,
      "id": "8b61ee95",
      "metadata": {
        "colab": {
          "base_uri": "https://localhost:8080/"
        },
        "id": "8b61ee95",
        "outputId": "d03cbf94-3076-4656-d0fd-593635e275fb"
      },
      "outputs": [
        {
          "output_type": "stream",
          "name": "stdout",
          "text": [
            "Shape of data : (2531, 8)\n"
          ]
        }
      ],
      "source": [
        "mum_prop.drop(columns=['Property_Name', 'Location','Availability','Bathroom'], inplace =  True)\n",
        "print('Shape of data :', mum_prop.shape)"
      ]
    },
    {
      "cell_type": "markdown",
      "id": "3ccc3582",
      "metadata": {
        "id": "3ccc3582"
      },
      "source": [
        "### 4.2 Label Encoding for Categorical Columns"
      ]
    },
    {
      "cell_type": "code",
      "execution_count": 10,
      "id": "48b968cc",
      "metadata": {
        "id": "48b968cc"
      },
      "outputs": [],
      "source": [
        "le = LabelEncoder()"
      ]
    },
    {
      "cell_type": "code",
      "execution_count": 11,
      "id": "92c3169a",
      "metadata": {
        "id": "92c3169a"
      },
      "outputs": [],
      "source": [
        "for column in mum_prop.describe(include='object').columns:\n",
        "    mum_prop[column] = le.fit_transform(mum_prop[column])"
      ]
    },
    {
      "cell_type": "code",
      "execution_count": 12,
      "id": "ac7950c8",
      "metadata": {
        "colab": {
          "base_uri": "https://localhost:8080/"
        },
        "id": "ac7950c8",
        "outputId": "5e753198-55d1-4ecb-fab6-2b3c4f73d8e9"
      },
      "outputs": [
        {
          "output_type": "stream",
          "name": "stdout",
          "text": [
            "               count      mean       std     min     25%      50%      75%  \\\n",
            "Region        2531.0     67.56     40.60     0.0    31.0     60.0    107.0   \n",
            "Property_Age  2531.0      1.30      1.09     0.0     0.0      1.0      2.0   \n",
            "Area_Tpye     2531.0      1.74      1.18     0.0     1.0      1.0      3.0   \n",
            "Area_SqFt     2531.0    948.77    486.83   185.0   634.5    850.0   1150.0   \n",
            "Rate_SqFt     2531.0  16553.69  10204.27  1808.0  8751.0  13636.0  22314.0   \n",
            "Floor_No      2531.0      8.78      7.98    -1.0     3.0      6.0     12.0   \n",
            "Bedroom       2531.0      1.95      0.83     1.0     1.0      2.0      2.0   \n",
            "Price_Lakh    2531.0    161.35    162.32    13.0    66.0    110.0    197.0   \n",
            "\n",
            "                  max  \n",
            "Region          144.0  \n",
            "Property_Age      4.0  \n",
            "Area_Tpye         3.0  \n",
            "Area_SqFt      5000.0  \n",
            "Rate_SqFt     55611.0  \n",
            "Floor_No         55.0  \n",
            "Bedroom           6.0  \n",
            "Price_Lakh     1900.0  \n"
          ]
        }
      ],
      "source": [
        "print(mum_prop.describe().round(2).T)"
      ]
    },
    {
      "cell_type": "code",
      "execution_count": 13,
      "id": "d4239485",
      "metadata": {
        "colab": {
          "base_uri": "https://localhost:8080/"
        },
        "id": "d4239485",
        "outputId": "f2c8f654-c486-4fbc-9868-0db22e26e588"
      },
      "outputs": [
        {
          "output_type": "stream",
          "name": "stdout",
          "text": [
            "      Region  Property_Age  Area_Tpye  Area_SqFt  Rate_SqFt  Floor_No  \\\n",
            "0         69             0          3     2900.0      17241        14   \n",
            "1         73             1          3     1900.0      12631         8   \n",
            "2         24             2          3      595.0      15966         3   \n",
            "3         18             3          0     1450.0      25862         1   \n",
            "4        107             3          1      876.0      39954         5   \n",
            "...      ...           ...        ...        ...        ...       ...   \n",
            "2526     130             1          0     1180.0      10338         2   \n",
            "2527     130             0          0     1090.0       8073        11   \n",
            "2528     130             1          0     1295.0      10579         6   \n",
            "2529     130             1          0     1850.0       9243         6   \n",
            "2530     130             0          0     1100.0       8636         4   \n",
            "\n",
            "      Bedroom  Price_Lakh  \n",
            "0           3       500.0  \n",
            "1           3       240.0  \n",
            "2           1        95.0  \n",
            "3           3       375.0  \n",
            "4           2       350.0  \n",
            "...       ...         ...  \n",
            "2526        2       122.0  \n",
            "2527        2        88.0  \n",
            "2528        2       137.0  \n",
            "2529        3       171.0  \n",
            "2530        2        95.0  \n",
            "\n",
            "[2531 rows x 8 columns]\n"
          ]
        }
      ],
      "source": [
        "print(mum_prop)"
      ]
    },
    {
      "cell_type": "code",
      "execution_count": 14,
      "id": "98e0bfba",
      "metadata": {
        "colab": {
          "base_uri": "https://localhost:8080/"
        },
        "id": "98e0bfba",
        "outputId": "dc170469-c72c-40c2-9a1f-93f76924a9ad"
      },
      "outputs": [
        {
          "output_type": "stream",
          "name": "stdout",
          "text": [
            "<class 'pandas.core.frame.DataFrame'>\n",
            "Index: 2531 entries, 0 to 2530\n",
            "Data columns (total 8 columns):\n",
            " #   Column        Non-Null Count  Dtype  \n",
            "---  ------        --------------  -----  \n",
            " 0   Region        2531 non-null   int64  \n",
            " 1   Property_Age  2531 non-null   int64  \n",
            " 2   Area_Tpye     2531 non-null   int64  \n",
            " 3   Area_SqFt     2531 non-null   float64\n",
            " 4   Rate_SqFt     2531 non-null   int64  \n",
            " 5   Floor_No      2531 non-null   int64  \n",
            " 6   Bedroom       2531 non-null   int64  \n",
            " 7   Price_Lakh    2531 non-null   float64\n",
            "dtypes: float64(2), int64(6)\n",
            "memory usage: 178.0 KB\n",
            "None\n"
          ]
        }
      ],
      "source": [
        "print(mum_prop.info())"
      ]
    },
    {
      "cell_type": "markdown",
      "id": "6cdc63ac",
      "metadata": {
        "id": "6cdc63ac"
      },
      "source": [
        "### 4.3 Looking for Minimum & Maximum"
      ]
    },
    {
      "cell_type": "code",
      "execution_count": 15,
      "id": "0d5ecd17",
      "metadata": {
        "colab": {
          "base_uri": "https://localhost:8080/"
        },
        "id": "0d5ecd17",
        "outputId": "eb4b3d66-1c1d-4f99-e8a0-4bccdae0e05e"
      },
      "outputs": [
        {
          "output_type": "stream",
          "name": "stdout",
          "text": [
            "Region Min value : 0 Max value : 144\n",
            "Property_Age Min value : 0 Max value : 4\n",
            "Area_Tpye Min value : 0 Max value : 3\n",
            "Area_SqFt Min value : 185.0 Max value : 5000.0\n",
            "Rate_SqFt Min value : 1808 Max value : 55611\n",
            "Floor_No Min value : -1 Max value : 55\n",
            "Bedroom Min value : 1 Max value : 6\n",
            "Price_Lakh Min value : 13.0 Max value : 1900.0\n"
          ]
        }
      ],
      "source": [
        "for i in mum_prop.columns:\n",
        "    print(i,'Min value :', mum_prop[i].min(),'Max value :', mum_prop[i].max())"
      ]
    },
    {
      "cell_type": "markdown",
      "id": "7124fb62",
      "metadata": {
        "id": "7124fb62"
      },
      "source": [
        "### 4.4 Correlation Heatmap"
      ]
    },
    {
      "cell_type": "code",
      "execution_count": null,
      "id": "c8ddb66b",
      "metadata": {
        "id": "c8ddb66b"
      },
      "outputs": [],
      "source": [
        "%matplotlib inline\n",
        "\n",
        "fig = plt.figure( figsize =(9,8))\n",
        "rcParams = {'xtick.labelsize':'14','ytick.labelsize':'14','axes.labelsize':'16'}\n",
        "sns.heatmap(mum_prop.corr(),annot = True, linewidths=.5, cbar_kws={\"shrink\": .5},fmt='.2f', cmap='coolwarm')\n",
        "fig.suptitle('Heatmap Mumbai Property Data',fontsize=18, fontweight=\"bold\")\n",
        "pylab.rcParams.update(rcParams)\n",
        "fig.tight_layout()\n",
        "plt.show()\n",
        "fig.savefig('Heatmap_Encoding', dpi = 250)"
      ]
    },
    {
      "cell_type": "markdown",
      "id": "4ef19cf0",
      "metadata": {
        "id": "4ef19cf0"
      },
      "source": [
        "## 5. Model Building"
      ]
    },
    {
      "cell_type": "code",
      "execution_count": 22,
      "id": "e1063848",
      "metadata": {
        "colab": {
          "base_uri": "https://localhost:8080/"
        },
        "id": "e1063848",
        "outputId": "44b293c8-7c9d-45d2-9bc8-890c24d3eb3f"
      },
      "outputs": [
        {
          "output_type": "stream",
          "name": "stdout",
          "text": [
            "   Region  Property_Age  Area_Tpye  Area_SqFt  Rate_SqFt  Floor_No  Bedroom  \\\n",
            "0      69             0          3     2900.0      17241        14        3   \n",
            "1      73             1          3     1900.0      12631         8        3   \n",
            "2      24             2          3      595.0      15966         3        1   \n",
            "3      18             3          0     1450.0      25862         1        3   \n",
            "4     107             3          1      876.0      39954         5        2   \n",
            "\n",
            "   Price_Lakh  \n",
            "0       500.0  \n",
            "1       240.0  \n",
            "2        95.0  \n",
            "3       375.0  \n",
            "4       350.0  \n"
          ]
        }
      ],
      "source": [
        "print(mum_prop.head())"
      ]
    },
    {
      "cell_type": "markdown",
      "id": "f5ecf5cf",
      "metadata": {
        "id": "f5ecf5cf"
      },
      "source": [
        "### 5.1 Train Test Split"
      ]
    },
    {
      "cell_type": "code",
      "execution_count": 23,
      "id": "891a501c",
      "metadata": {
        "scrolled": false,
        "id": "891a501c"
      },
      "outputs": [],
      "source": [
        "X =  mum_prop.drop('Price_Lakh', axis = 1)\n",
        "y =  mum_prop['Price_Lakh']"
      ]
    },
    {
      "cell_type": "code",
      "execution_count": 24,
      "id": "2197ea54",
      "metadata": {
        "id": "2197ea54"
      },
      "outputs": [],
      "source": [
        "X_train, X_test, y_train, y_test = train_test_split(X, y, test_size= 0.20, random_state = 12)"
      ]
    },
    {
      "cell_type": "code",
      "execution_count": 25,
      "id": "4f0e4534",
      "metadata": {
        "colab": {
          "base_uri": "https://localhost:8080/"
        },
        "id": "4f0e4534",
        "outputId": "f40f36df-9da1-4bd5-845d-225762da05b6"
      },
      "outputs": [
        {
          "output_type": "stream",
          "name": "stdout",
          "text": [
            "(2024, 7) (507, 7)\n"
          ]
        }
      ],
      "source": [
        "print(X_train.shape, X_test.shape)"
      ]
    },
    {
      "cell_type": "markdown",
      "id": "9feafe60",
      "metadata": {
        "id": "9feafe60"
      },
      "source": [
        "### 5.2 Linear Regression"
      ]
    },
    {
      "cell_type": "code",
      "execution_count": 26,
      "id": "bcf26aef",
      "metadata": {
        "colab": {
          "base_uri": "https://localhost:8080/"
        },
        "id": "bcf26aef",
        "outputId": "99b204cf-7261-4d3f-a636-2587d3819a30"
      },
      "outputs": [
        {
          "output_type": "stream",
          "name": "stdout",
          "text": [
            "Training Accuracy =  0.8729615274576085\n",
            "Test Accuracy     =  0.8696528670699649\n"
          ]
        }
      ],
      "source": [
        "from sklearn.linear_model import LinearRegression\n",
        "\n",
        "linear = LinearRegression()\n",
        "linear.fit(X_train, y_train)\n",
        "\n",
        "print(\"Training Accuracy = \", linear.score(X_train, y_train))\n",
        "print(\"Test Accuracy     = \", linear.score(X_test, y_test))"
      ]
    },
    {
      "cell_type": "markdown",
      "id": "c1f5229e",
      "metadata": {
        "id": "c1f5229e"
      },
      "source": [
        "### 5.3 Decision Tree Regressor"
      ]
    },
    {
      "cell_type": "code",
      "execution_count": 27,
      "id": "b74822b0",
      "metadata": {
        "colab": {
          "base_uri": "https://localhost:8080/"
        },
        "id": "b74822b0",
        "outputId": "99574916-c52c-4920-db68-e389b28f31f6"
      },
      "outputs": [
        {
          "output_type": "stream",
          "name": "stdout",
          "text": [
            "Training Accuracy =  1.0\n",
            "Test Accuracy     =  0.9570536728526522\n"
          ]
        }
      ],
      "source": [
        "from sklearn.tree import DecisionTreeRegressor\n",
        "\n",
        "dt = DecisionTreeRegressor(min_samples_split=2)\n",
        "dt.fit(X_train, y_train)\n",
        "\n",
        "print(\"Training Accuracy = \", dt.score(X_train, y_train))\n",
        "print(\"Test Accuracy     = \", dt.score(X_test, y_test))"
      ]
    },
    {
      "cell_type": "markdown",
      "id": "efb5f9f4",
      "metadata": {
        "id": "efb5f9f4"
      },
      "source": [
        "### 5.4 Random Forest Regressor"
      ]
    },
    {
      "cell_type": "code",
      "execution_count": 28,
      "id": "4e9b0cf3",
      "metadata": {
        "scrolled": true,
        "colab": {
          "base_uri": "https://localhost:8080/"
        },
        "id": "4e9b0cf3",
        "outputId": "612f5e3e-a0c7-4c81-8aa8-f258a3d4c25a"
      },
      "outputs": [
        {
          "output_type": "stream",
          "name": "stdout",
          "text": [
            "Training Accuracy =  0.9753917006228885\n",
            "Test Accuracy     =  0.9641944588626601\n"
          ]
        }
      ],
      "source": [
        "from sklearn.ensemble import RandomForestRegressor\n",
        "\n",
        "rf = RandomForestRegressor(n_estimators = 1000, max_depth=5, random_state = 12)\n",
        "rf.fit(X_train, y_train);\n",
        "\n",
        "print(\"Training Accuracy = \", rf.score(X_train, y_train))\n",
        "print(\"Test Accuracy     = \", rf.score(X_test, y_test))"
      ]
    },
    {
      "cell_type": "markdown",
      "id": "9940e59b",
      "metadata": {
        "id": "9940e59b"
      },
      "source": [
        "### 5.5 Polynomial Features"
      ]
    },
    {
      "cell_type": "code",
      "execution_count": 59,
      "id": "1bb47bd0",
      "metadata": {
        "colab": {
          "base_uri": "https://localhost:8080/"
        },
        "id": "1bb47bd0",
        "outputId": "ac95941b-52dd-4f1b-8dbf-10dc9980a31f"
      },
      "outputs": [
        {
          "output_type": "stream",
          "name": "stdout",
          "text": [
            "Training Accuracy =  0.9903850350980973\n",
            "Test Accuracy     =  0.9821027587862007\n"
          ]
        }
      ],
      "source": [
        "from sklearn.pipeline import Pipeline\n",
        "from sklearn.preprocessing import PolynomialFeatures\n",
        "\n",
        "poly = PolynomialFeatures(degree=2)\n",
        "poly.fit_transform(X)\n",
        "\n",
        "\n",
        "poly_model = Pipeline([('poly', PolynomialFeatures(degree=2)),\n",
        "                       ('rf', RandomForestRegressor(n_estimators = 1000, max_depth=5, random_state = 12))])\n",
        "poly_model.fit(X_train, y_train)\n",
        "\n",
        "\n",
        "print(\"Training Accuracy = \", poly_model.score(X_train, y_train))\n",
        "print(\"Test Accuracy     = \", poly_model.score(X_test, y_test))"
      ]
    },
    {
      "cell_type": "code",
      "execution_count": 60,
      "id": "29d36ee5",
      "metadata": {
        "colab": {
          "base_uri": "https://localhost:8080/"
        },
        "id": "29d36ee5",
        "outputId": "6b60307c-69d3-4424-a8e9-28682cf41d5a"
      },
      "outputs": [
        {
          "output_type": "stream",
          "name": "stdout",
          "text": [
            "Training Accuracy =  0.9832978154650837\n",
            "Test Accuracy     =  0.9873735095036101\n"
          ]
        }
      ],
      "source": [
        "from sklearn.pipeline import Pipeline\n",
        "from sklearn.preprocessing import PolynomialFeatures\n",
        "\n",
        "poly = PolynomialFeatures(degree=2)\n",
        "poly.fit_transform(X)\n",
        "\n",
        "\n",
        "poly_model = Pipeline([('poly', PolynomialFeatures(degree=2)), ('linear', LinearRegression(fit_intercept=False))])\n",
        "poly_model.fit(X_train, y_train)\n",
        "\n",
        "\n",
        "print(\"Training Accuracy = \", poly_model.score(X_train, y_train))\n",
        "print(\"Test Accuracy     = \", poly_model.score(X_test, y_test))"
      ]
    },
    {
      "cell_type": "markdown",
      "source": [
        "### 5.5 XGBOOST"
      ],
      "metadata": {
        "id": "cYmc-e1Q-SqF"
      },
      "id": "cYmc-e1Q-SqF"
    },
    {
      "cell_type": "code",
      "source": [
        "from xgboost.sklearn import XGBRegressor\n",
        "xgb = XGBRegressor()\n",
        "xgb.fit(X_train, y_train)\n",
        "print(\"Training Accuracy = \", xgb.score(X_train, y_train))\n",
        "print(\"Test Accuracy     = \", xgb.score(X_test, y_test))\n"
      ],
      "metadata": {
        "colab": {
          "base_uri": "https://localhost:8080/"
        },
        "id": "z9fWoRME-VN3",
        "outputId": "b1612cfd-582c-48ef-bdf7-5f86d5bbcb9f"
      },
      "id": "z9fWoRME-VN3",
      "execution_count": 32,
      "outputs": [
        {
          "output_type": "stream",
          "name": "stdout",
          "text": [
            "Training Accuracy =  0.9997427193256854\n",
            "Test Accuracy     =  0.9844371222968514\n"
          ]
        }
      ]
    },
    {
      "cell_type": "markdown",
      "source": [
        "# **Hyperparameter Tuning**"
      ],
      "metadata": {
        "id": "6LX8Fjw09bgZ"
      },
      "id": "6LX8Fjw09bgZ"
    },
    {
      "cell_type": "code",
      "source": [
        "from sklearn.model_selection import  GridSearchCV\n",
        "from sklearn.metrics import mean_squared_error, r2_score"
      ],
      "metadata": {
        "id": "nzedtP4W_UvA"
      },
      "id": "nzedtP4W_UvA",
      "execution_count": 33,
      "outputs": []
    },
    {
      "cell_type": "code",
      "source": [
        "gradient_boosting_params = {\n",
        "    'learning_rate': [0.01, 0.025, 0.05, 0.075, 0.1, 0.15, 0.2],\n",
        "    'n_estimators': [10, 50, 100, 200],\n",
        "    'max_depth': [1,2,3, 5, 8],\n",
        "}\n",
        "\n",
        "from sklearn.ensemble import GradientBoostingRegressor\n",
        "gb = GradientBoostingRegressor()\n",
        "\n",
        "grid_search = GridSearchCV(estimator=gb, param_grid=gradient_boosting_params,\n",
        "                           cv=5, n_jobs=-1, verbose=1)\n",
        "grid_search.fit(X_train, y_train)\n",
        "\n",
        "best_params = grid_search.best_params_\n",
        "best_model = grid_search.best_estimator_\n",
        "print(\"Training Accuracy = \", best_model.score(X_train, y_train))\n",
        "print(\"Test Accuracy     = \", best_model.score(X_test, y_test))\n"
      ],
      "metadata": {
        "colab": {
          "base_uri": "https://localhost:8080/"
        },
        "id": "zyeP8rTM9ape",
        "outputId": "8c8afdb1-3ca8-4aa8-a074-5d3d1c3ce7e3"
      },
      "id": "zyeP8rTM9ape",
      "execution_count": 34,
      "outputs": [
        {
          "output_type": "stream",
          "name": "stdout",
          "text": [
            "Fitting 5 folds for each of 140 candidates, totalling 700 fits\n",
            "Training Accuracy =  0.9981502150319286\n",
            "Test Accuracy     =  0.9828273297852649\n"
          ]
        }
      ]
    },
    {
      "cell_type": "code",
      "source": [
        "import xgboost as xg\n",
        "xgboost_params = {\n",
        "    'n_estimators': [50, 100, 200, 500],\n",
        "    'learning_rate': [0.01, 0.05, 0.1, 0.2],\n",
        "    'max_depth': [2,3,4 ,5,6, 7,8,9, 10],\n",
        "}\n",
        "gb = xg.XGBRegressor()\n",
        "\n",
        "grid_search = GridSearchCV(estimator=gb, param_grid=gradient_boosting_params,\n",
        "                           cv=5, n_jobs=-1, verbose=1)\n",
        "grid_search.fit(X_train, y_train)\n",
        "\n",
        "best_params = grid_search.best_params_\n",
        "best_model = grid_search.best_estimator_\n",
        "print(\"Training Accuracy = \", best_model.score(X_train, y_train))\n",
        "print(\"Test Accuracy     = \", best_model.score(X_test, y_test))\n"
      ],
      "metadata": {
        "colab": {
          "base_uri": "https://localhost:8080/"
        },
        "id": "SvUMrRHsAiiV",
        "outputId": "b169f556-27d8-463c-eb92-383a7b87e1a9"
      },
      "id": "SvUMrRHsAiiV",
      "execution_count": 38,
      "outputs": [
        {
          "output_type": "stream",
          "name": "stdout",
          "text": [
            "Fitting 5 folds for each of 140 candidates, totalling 700 fits\n",
            "Training Accuracy =  0.9985238798426153\n",
            "Test Accuracy     =  0.9834963511296909\n"
          ]
        }
      ]
    },
    {
      "cell_type": "markdown",
      "source": [
        "***Best model thorugh hyperparameter tunning***"
      ],
      "metadata": {
        "id": "0wW-I9PLDYG2"
      },
      "id": "0wW-I9PLDYG2"
    },
    {
      "cell_type": "code",
      "source": [
        "from sklearn.model_selection import GridSearchCV\n",
        "from sklearn.linear_model import LinearRegression\n",
        "from sklearn.preprocessing import PolynomialFeatures\n",
        "from sklearn.pipeline import Pipeline\n",
        "pipeline = Pipeline([\n",
        "    ('poly', PolynomialFeatures()),\n",
        "    ('linear', LinearRegression())\n",
        "])\n",
        "\n",
        "param_grid = {\n",
        "    'poly__degree': [2],\n",
        "    'poly__interaction_only': [True, False],\n",
        "    'poly__include_bias': [True, False],\n",
        "    'linear__fit_intercept': [True, False],\n",
        "}\n",
        "grid_search = GridSearchCV(pipeline, param_grid, cv=5)\n",
        "grid_search.fit(X_train, y_train)\n",
        "\n",
        "print(\"Best parameters found: \", grid_search.best_params_)\n",
        "bestmodel=grid_search.best_estimator_\n",
        "\n",
        "print(\"Training Accuracy = \", grid_search.best_estimator_.score(X_train, y_train))\n",
        "print(\"Test Accuracy     = \", grid_search.best_estimator_.score(X_test, y_test))\n"
      ],
      "metadata": {
        "colab": {
          "base_uri": "https://localhost:8080/"
        },
        "id": "2tMFQfzgDXN2",
        "outputId": "9d3f13b7-ed87-463f-d1fd-f957585dccf2"
      },
      "id": "2tMFQfzgDXN2",
      "execution_count": 52,
      "outputs": [
        {
          "output_type": "stream",
          "name": "stdout",
          "text": [
            "Best parameters found:  {'linear__fit_intercept': False, 'poly__degree': 2, 'poly__include_bias': False, 'poly__interaction_only': True}\n",
            "Training Accuracy =  0.982943306704215\n",
            "Test Accuracy     =  0.9876634744400551\n"
          ]
        }
      ]
    },
    {
      "cell_type": "markdown",
      "id": "2fa261c7",
      "metadata": {
        "id": "2fa261c7"
      },
      "source": [
        "## Obeservaion :\n",
        "### 1. We select the final model - Polynomial Feature.\n",
        "### 2. We got 98.76 % Model Accuracy."
      ]
    },
    {
      "cell_type": "markdown",
      "id": "4c0d4a4b",
      "metadata": {
        "id": "4c0d4a4b"
      },
      "source": [
        "## 6. Final Model Evaluation"
      ]
    },
    {
      "cell_type": "code",
      "execution_count": 48,
      "id": "2d67f589",
      "metadata": {
        "id": "2d67f589"
      },
      "outputs": [],
      "source": [
        "def evaluate(model, test_features, test_labels):\n",
        "    predictions = model.predict(test_features)\n",
        "    errors = abs(predictions - test_labels)\n",
        "    accuracy = model.score(test_features, test_labels)\n",
        "\n",
        "    print('Average Error  = {:0.4f} degrees'.format(np.mean(errors)))\n",
        "    print('Model Accuracy = {:0.4f} %'.format(accuracy))"
      ]
    },
    {
      "cell_type": "code",
      "execution_count": 50,
      "id": "a955ad32",
      "metadata": {
        "colab": {
          "base_uri": "https://localhost:8080/"
        },
        "id": "a955ad32",
        "outputId": "30f6bbc0-5887-4c9d-d9d2-23b4c7c41dcd"
      },
      "outputs": [
        {
          "output_type": "stream",
          "name": "stdout",
          "text": [
            "Average Error  = 8.0987 degrees\n",
            "Model Accuracy = 0.9829 %\n"
          ]
        }
      ],
      "source": [
        "evaluate(bestmodel, X_train, y_train)"
      ]
    },
    {
      "cell_type": "code",
      "execution_count": 51,
      "id": "37494896",
      "metadata": {
        "colab": {
          "base_uri": "https://localhost:8080/"
        },
        "id": "37494896",
        "outputId": "25ab8314-2835-4bb9-a308-b1451a3b2079"
      },
      "outputs": [
        {
          "output_type": "stream",
          "name": "stdout",
          "text": [
            "Average Error  = 8.5864 degrees\n",
            "Model Accuracy = 0.9877 %\n"
          ]
        }
      ],
      "source": [
        "evaluate(bestmodel, X_test, y_test)"
      ]
    },
    {
      "cell_type": "markdown",
      "id": "106e432a",
      "metadata": {
        "id": "106e432a"
      },
      "source": [
        "### 6.1 Visualizing Results"
      ]
    },
    {
      "cell_type": "code",
      "execution_count": 53,
      "id": "09bb93ec",
      "metadata": {
        "id": "09bb93ec"
      },
      "outputs": [],
      "source": [
        "pred = poly_model.predict(X_test)"
      ]
    },
    {
      "cell_type": "code",
      "execution_count": null,
      "id": "6db9592b",
      "metadata": {
        "id": "6db9592b"
      },
      "outputs": [],
      "source": [
        "fig = plt.figure(figsize=(8,7))\n",
        "\n",
        "sns.scatterplot(x=y_test, y=pred)\n",
        "fig.suptitle('Prediction using Polynomial', fontsize= 18 , fontweight='bold')\n",
        "plt.xlabel(\"Actual\")\n",
        "plt.ylabel(\"Prediction\")\n",
        "pylab.rcParams.update(rcParams)\n",
        "fig.tight_layout()\n",
        "fig.subplots_adjust(top=0.92)\n",
        "plt.show()\n",
        "\n",
        "#fig.savefig('Prediction_Polynomial', dpi = 500)"
      ]
    },
    {
      "cell_type": "markdown",
      "id": "37ff0f34",
      "metadata": {
        "id": "37ff0f34"
      },
      "source": [
        "## 7. Model Deployement"
      ]
    },
    {
      "cell_type": "code",
      "execution_count": 57,
      "id": "187f0fc4",
      "metadata": {
        "id": "187f0fc4"
      },
      "outputs": [],
      "source": [
        "from pickle import dump"
      ]
    },
    {
      "cell_type": "code",
      "execution_count": 58,
      "id": "ffd19f0c",
      "metadata": {
        "id": "ffd19f0c"
      },
      "outputs": [],
      "source": [
        "dump(poly_model,open('regression_model.pkl','wb'))"
      ]
    },
    {
      "cell_type": "markdown",
      "id": "ac91d2e6",
      "metadata": {
        "id": "ac91d2e6"
      },
      "source": [
        "# The End !!!"
      ]
    }
  ],
  "metadata": {
    "kernelspec": {
      "display_name": "Python 3 (ipykernel)",
      "language": "python",
      "name": "python3"
    },
    "language_info": {
      "codemirror_mode": {
        "name": "ipython",
        "version": 3
      },
      "file_extension": ".py",
      "mimetype": "text/x-python",
      "name": "python",
      "nbconvert_exporter": "python",
      "pygments_lexer": "ipython3",
      "version": "3.9.13"
    },
    "colab": {
      "provenance": []
    }
  },
  "nbformat": 4,
  "nbformat_minor": 5
}